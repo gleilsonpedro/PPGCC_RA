{
 "cells": [
  {
   "cell_type": "code",
   "execution_count": null,
   "metadata": {},
   "outputs": [],
   "source": [
    "from sklearn.datasets import fetch_openml\n",
    "import pandas as pd\n",
    "from sklearn.preprocessing import MinMaxScaler\n",
    "import numpy as np\n",
    "from sklearn.model_selection import train_test_split\n",
    "from sklearn.linear_model import LogisticRegression\n",
    "from sklearn.metrics import accuracy_score\n",
    "from z3 import *\n",
    "import matplotlib.pyplot as plt\n",
    "from sklearn.datasets import load_iris\n",
    "from PIL import Image\n",
    "\n",
    "mnist = fetch_openml('mnist_784', version=1, cache=True, parser='auto')\n",
    "X_iris, y_iris = load_iris(return_X_y=True, as_frame=True)\n",
    "\n",
    "scaler = MinMaxScaler()\n",
    "scaler.fit(mnist.data)\n",
    "scaler.set_output(transform='pandas')\n",
    "data_scaled = scaler.transform(mnist.data)\n",
    "\n",
    "scaler.fit(X_iris)\n",
    "scaler.set_output(transform='pandas')\n",
    "X_iris = scaler.transform(X_iris)"
   ]
  }
 ],
 "metadata": {
  "language_info": {
   "name": "python"
  }
 },
 "nbformat": 4,
 "nbformat_minor": 2
}
