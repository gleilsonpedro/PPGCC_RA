{
 "cells": [
  {
   "cell_type": "code",
   "execution_count": 1,
   "metadata": {},
   "outputs": [
    {
     "name": "stdout",
     "output_type": "stream",
     "text": [
      "Dataset 'diabetes' carregado com sucesso.\n",
      "Classes: ['Below Median Progression', 'Above Median Progression']\n",
      "Amostras: 442 | Atributos: 10\n"
     ]
    }
   ],
   "source": [
    "from sklearn.datasets import load_diabetes\n",
    "import pandas as pd\n",
    "\n",
    "# Função para carregar o dataset e transformar a variável alvo em um problema de classificação binária\n",
    "def carregar_dataset(nome_dataset):\n",
    "    if nome_dataset == 'diabetes':\n",
    "        data = load_diabetes()\n",
    "        X = pd.DataFrame(data.data, columns=data.feature_names)\n",
    "        \n",
    "        # Transformação para problema binário\n",
    "        y = data.target\n",
    "        mediana_y = pd.Series(y).median()\n",
    "        y_binario = [1 if valor > mediana_y else 0 for valor in y]  # Classe 1 acima da mediana, Classe 0 abaixo ou igual\n",
    "        \n",
    "        class_names = ['Below Median Progression', 'Above Median Progression']\n",
    "        return X, y_binario, class_names\n",
    "    \n",
    "    # Outros datasets podem ser adicionados aqui\n",
    "    else:\n",
    "        raise ValueError(\"Nome do dataset não reconhecido. Escolha um dataset válido.\")\n",
    "\n",
    "# Carrega o dataset de diabetes com a transformação binária\n",
    "nome_dataset = 'diabetes'\n",
    "X, y, class_names = carregar_dataset(nome_dataset)\n",
    "\n",
    "# Exibe as classes\n",
    "print(f\"Dataset '{nome_dataset}' carregado com sucesso.\")\n",
    "print(\"Classes:\", class_names)\n",
    "print(\"Amostras:\", X.shape[0], \"| Atributos:\", X.shape[1])\n"
   ]
  }
 ],
 "metadata": {
  "kernelspec": {
   "display_name": "Python 3",
   "language": "python",
   "name": "python3"
  },
  "language_info": {
   "codemirror_mode": {
    "name": "ipython",
    "version": 3
   },
   "file_extension": ".py",
   "mimetype": "text/x-python",
   "name": "python",
   "nbconvert_exporter": "python",
   "pygments_lexer": "ipython3",
   "version": "3.11.7"
  }
 },
 "nbformat": 4,
 "nbformat_minor": 2
}
