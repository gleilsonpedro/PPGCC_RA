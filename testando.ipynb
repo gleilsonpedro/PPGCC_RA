{
 "cells": [
  {
   "cell_type": "code",
   "execution_count": 38,
   "metadata": {},
   "outputs": [
    {
     "name": "stdout",
     "output_type": "stream",
     "text": [
      "Pesos: [-0.39381403  0.96220565 -2.37519275 -0.99872731]\n",
      "Delta: [-0.7088652578943643, 1.539529034488898, -8.788213178604362, -1.098600036798368]\n",
      "Limiar R: 9.06\n",
      "Vs: {'sepal length (cm)': 6.1, 'sepal width (cm)': 2.8, 'petal length (cm)': 4.7, 'petal width (cm)': 1.2}\n",
      "\n",
      "PI-Explicação: \n",
      "- petal length (cm) - 4.7\n",
      "- sepal width (cm) - 2.8\n"
     ]
    }
   ],
   "source": [
    "####################################################################################################\n",
    "import pandas as pd\n",
    "from sklearn.datasets import load_iris\n",
    "from sklearn.linear_model import LogisticRegression\n",
    "from sklearn.model_selection import train_test_split\n",
    "\n",
    "# Carrega o dataset Iris\n",
    "iris = load_iris()\n",
    "df = pd.DataFrame(data=iris.data, columns=iris.feature_names) # organizando em um df\n",
    "df['target'] = iris.target # rotulos\n",
    "\n",
    "X_train, X_test, y_train, y_test = train_test_split(df.drop('target', axis=1), df['target'], test_size=0.2, random_state=42)\n",
    "modelo = LogisticRegression()\n",
    "modelo.fit(X_train, y_train) # treinando o modelo\n",
    "\n",
    "w = modelo.coef_[0] # pesos do modelo treinado\n",
    "Vs = X_test.iloc[0].to_dict() # utilizxando a primeira instância dos dados de teste \n",
    "\n",
    "delta = []\n",
    "\n",
    "# Calcula o valor delta para cada feature\n",
    "# peso negativo, valor menor = maior possibilidade da instância peetencer a classe\n",
    "# delta c\\ peso negativo é (valor feature na instancia - valor min da feature no dataset) * o peso da feature \n",
    "# delta c\\ peso positivo é (vvalor max da feature no dataset - valor feature na instancia - ) * o peso da feature\n",
    "for i, feature in enumerate(df.columns[:-1]):  \n",
    "    if w[i] < 0:\n",
    "        delta.append((Vs[feature] - df[feature].min()) * w[i])\n",
    "    else:\n",
    "        delta.append((df[feature].max() - Vs[feature]) * w[i])\n",
    "\n",
    "# Calcula o limiar (-Gamma_w)\n",
    "R = abs(-sum(delta))  # Usando a equação 13 do artigo e garantindo que R seja positivo\n",
    "# R = O valor absoluto da soma de todos os deltas\n",
    "\n",
    "def one_explanation(Vs, delta, R):\n",
    "    Xpl = []  # Inicializa a lista de PI-explicação\n",
    "    # Ordena o delta junto com seus índices, em ordem decrescente de valor absoluto\n",
    "    delta_sorted = sorted(enumerate(delta), key=lambda x: abs(x[1]), reverse=True) # enumerando os valores de delta em tuplas e ordenanas\n",
    "                                                                                   # func lambda recebe a tupla produzida com o valor absoluto em ordem decrescente, do maior para o menor.\n",
    "    R_atual = R  # Inicializa o limiar atual\n",
    "    Idx = 0  # Inicializa o índice para iterar\n",
    "    \n",
    "    # Limite para considerar uma feature como importante, com base no limar R\n",
    "    threshold_delta = 0.15 * R # Valor de delta mínimo para ser considerado relevante\n",
    "    \n",
    "    while R_atual > 0 and Idx < len(delta_sorted):\n",
    "        sorted_idx, delta_value = delta_sorted[Idx]  # Desempacota o índice(soted_idx) e o valor(delta_value) do delta de acordo com o indce(idx)\n",
    "        feature = X_test.columns[sorted_idx]  # Obtém o nome da feature correspondente\n",
    "        feature_value = Vs[feature]  # Obtém o valor da feature na instância Vs\n",
    "        \n",
    "        # Adiciona à explicação apenas se o delta for maior que o threshold que está sendo calculado com uma % do R. não sei se esta certo isso\n",
    "        if abs(delta_value) > threshold_delta:  # Verifica se o delta tem impacto relevante \n",
    "            Xpl.append(f\"{feature} - {feature_value}\")  # Adiciona feature e valor à explicação\n",
    "        \n",
    "        R_atual -= delta_value  # Atualiza o limiar atual para manter ou parar o loop\n",
    "        Idx += 1  # Incrementa o índice também para o loop\n",
    "    \n",
    "    return Xpl  # Retorna a PI-explicação\n",
    "\n",
    "# Computa a PI-explicação\n",
    "Xpl = one_explanation(Vs, delta, R)\n",
    "\n",
    "#print(f\"Pesos: {w}\")\n",
    "#print(f\"Delta: {delta}\")\n",
    "#print(f\"Limiar R: {R:.2f}\")\n",
    "#print(f\"Vs: {Vs}\\n\")\n",
    "print(f\"PI-Explicação: \")\n",
    "for item in Xpl:\n",
    "    print(f\"- {item}\")"
   ]
  }
 ],
 "metadata": {
  "kernelspec": {
   "display_name": "Python 3",
   "language": "python",
   "name": "python3"
  },
  "language_info": {
   "codemirror_mode": {
    "name": "ipython",
    "version": 3
   },
   "file_extension": ".py",
   "mimetype": "text/x-python",
   "name": "python",
   "nbconvert_exporter": "python",
   "pygments_lexer": "ipython3",
   "version": "3.11.7"
  }
 },
 "nbformat": 4,
 "nbformat_minor": 2
}
